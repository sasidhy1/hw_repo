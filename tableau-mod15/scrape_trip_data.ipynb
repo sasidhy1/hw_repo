{
 "cells": [
  {
   "cell_type": "markdown",
   "metadata": {},
   "source": [
    "### webscraper to download trip data"
   ]
  },
  {
   "cell_type": "code",
   "execution_count": 2,
   "metadata": {},
   "outputs": [],
   "source": [
    "# import dependencies\n",
    "from splinter import Browser\n",
    "from bs4 import BeautifulSoup as bs"
   ]
  },
  {
   "cell_type": "code",
   "execution_count": 3,
   "metadata": {},
   "outputs": [],
   "source": [
    "# initialize browser instance\n",
    "executable_path = {'executable_path':'chromedriver.exe'}\n",
    "browser = Browser('chrome', **executable_path, headless=False)"
   ]
  },
  {
   "cell_type": "code",
   "execution_count": 43,
   "metadata": {},
   "outputs": [],
   "source": [
    "# visit url\n",
    "url = 'https://s3.amazonaws.com/tripdata/index.html'\n",
    "browser.visit(url)"
   ]
  },
  {
   "cell_type": "code",
   "execution_count": 5,
   "metadata": {},
   "outputs": [],
   "source": [
    "# turn into soup\n",
    "html = browser.html\n",
    "soup = bs(html,'html.parser')"
   ]
  },
  {
   "cell_type": "code",
   "execution_count": 21,
   "metadata": {},
   "outputs": [],
   "source": [
    "# find all table data elements\n",
    "data = soup.find_all('td')"
   ]
  },
  {
   "cell_type": "code",
   "execution_count": 23,
   "metadata": {
    "scrolled": true
   },
   "outputs": [],
   "source": [
    "# narrow down available download links\n",
    "links = []\n",
    "for item in data:\n",
    "    if item.a:\n",
    "        if 'JC' not in item.a['href']:\n",
    "            links.append(item.a['href'])"
   ]
  },
  {
   "cell_type": "code",
   "execution_count": 41,
   "metadata": {},
   "outputs": [
    {
     "data": {
      "text/plain": [
       "'201306-citibike-tripdata.zip'"
      ]
     },
     "execution_count": 41,
     "metadata": {},
     "output_type": "execute_result"
    }
   ],
   "source": [
    "links[0].split('/')[-1]"
   ]
  },
  {
   "cell_type": "code",
   "execution_count": 44,
   "metadata": {
    "scrolled": true
   },
   "outputs": [],
   "source": [
    "# visit each source for download, ignore two files\n",
    "for i, link in enumerate(links):\n",
    "    if 'index' not in link and '201307-201402' not in link:\n",
    "        browser.click_link_by_partial_text(links[i].split('/')[-1])"
   ]
  },
  {
   "cell_type": "code",
   "execution_count": 94,
   "metadata": {},
   "outputs": [],
   "source": [
    "# close browser instance\n",
    "browser.quit()"
   ]
  },
  {
   "cell_type": "markdown",
   "metadata": {},
   "source": [
    "### unzip and extract CSV files"
   ]
  },
  {
   "cell_type": "code",
   "execution_count": 1,
   "metadata": {},
   "outputs": [],
   "source": [
    "import os\n",
    "import zipfile"
   ]
  },
  {
   "cell_type": "code",
   "execution_count": 100,
   "metadata": {
    "scrolled": true
   },
   "outputs": [
    {
     "name": "stdout",
     "output_type": "stream",
     "text": [
      "Extracted 201306-citibike-tripdata.zip...\n",
      "Extracted 201307-citibike-tripdata.zip...\n",
      "Extracted 201308-citibike-tripdata.zip...\n",
      "Extracted 201309-citibike-tripdata.zip...\n",
      "Extracted 201310-citibike-tripdata.zip...\n",
      "Extracted 201311-citibike-tripdata.zip...\n",
      "Extracted 201312-citibike-tripdata.zip...\n",
      "Extracted 201401-citibike-tripdata.zip...\n",
      "Extracted 201402-citibike-tripdata.zip...\n",
      "Extracted 201403-citibike-tripdata.zip...\n",
      "Extracted 201404-citibike-tripdata.zip...\n"
     ]
    }
   ],
   "source": [
    "# change directory to downloads\n",
    "path = 'C:/Users/nssas/Downloads/'\n",
    "os.chdir(path)\n",
    "\n",
    "# unzip each file, move to resources directory\n",
    "dest = 'D:/tableau_csvs/trip_data/'\n",
    "for file in os.listdir('.'):\n",
    "    if 'citibike-tripdata' in file:\n",
    "        if 'index' not in file and '201307-201402' not in file:\n",
    "            zip_ref = zipfile.ZipFile(file,'r')\n",
    "            dis = [p for p in zip_ref.namelist() if p.startswith('20') and p.endswith('.csv')][0]\n",
    "            zip_ref.extract(dis,dest)\n",
    "            zip_ref.close()\n",
    "            \n",
    "            print(f'Extracted {file}...')"
   ]
  },
  {
   "cell_type": "markdown",
   "metadata": {},
   "source": [
    "### rename all columns to standard names"
   ]
  },
  {
   "cell_type": "code",
   "execution_count": 4,
   "metadata": {},
   "outputs": [],
   "source": [
    "import pandas as pd"
   ]
  },
  {
   "cell_type": "code",
   "execution_count": 2,
   "metadata": {},
   "outputs": [],
   "source": [
    "# navigate back to project directory\n",
    "nav = 'D:/tableau_csvs/'\n",
    "os.chdir(nav)"
   ]
  },
  {
   "cell_type": "code",
   "execution_count": 15,
   "metadata": {
    "scrolled": true
   },
   "outputs": [
    {
     "name": "stdout",
     "output_type": "stream",
     "text": [
      "tripduration\n",
      "starttime\n",
      "stoptime\n",
      "startstationid\n",
      "startstationname\n",
      "startstationlatitude\n",
      "startstationlongitude\n",
      "endstationid\n",
      "endstationname\n",
      "endstationlatitude\n",
      "endstationlongitude\n",
      "bikeid\n",
      "usertype\n",
      "birthyear\n",
      "gender\n",
      "----\n",
      "----\n",
      "----\n",
      "----\n",
      "----\n",
      "----\n",
      "----\n",
      "----\n",
      "----\n",
      "----\n",
      "----\n",
      "----\n",
      "----\n",
      "----\n",
      "----\n",
      "----\n",
      "----\n",
      "----\n",
      "----\n",
      "----\n",
      "----\n",
      "----\n",
      "----\n",
      "----\n",
      "----\n",
      "----\n",
      "----\n",
      "----\n",
      "----\n",
      "----\n",
      "----\n",
      "----\n",
      "----\n",
      "----\n",
      "----\n",
      "----\n",
      "----\n",
      "----\n",
      "----\n",
      "----\n",
      "----\n",
      "----\n",
      "----\n",
      "----\n",
      "----\n",
      "----\n",
      "----\n",
      "----\n",
      "----\n",
      "----\n",
      "----\n",
      "----\n",
      "----\n",
      "----\n",
      "----\n",
      "----\n",
      "----\n",
      "----\n",
      "----\n",
      "----\n",
      "----\n",
      "----\n",
      "----\n",
      "----\n",
      "----\n",
      "----\n",
      "----\n"
     ]
    }
   ],
   "source": [
    "# check if there are new occuring column names\n",
    "unique = []\n",
    "columns = []\n",
    "for file in os.listdir('trip_data/'):\n",
    "    if file.endswith('.csv'):\n",
    "        df = pd.read_csv(f'trip_data/{file}',nrows=0,engine='python',error_bad_lines=False)\n",
    "        cols = df.columns.values.tolist()\n",
    "        d = []\n",
    "        for col in cols:\n",
    "            col = ''.join(col.split(' ')).lower()\n",
    "            d.append(col)\n",
    "            if col not in unique:\n",
    "                unique.append(col)\n",
    "                print(col)\n",
    "        columns.append(d)\n",
    "        print('----')"
   ]
  },
  {
   "cell_type": "code",
   "execution_count": 23,
   "metadata": {
    "scrolled": true
   },
   "outputs": [],
   "source": [
    "# find if all columns are matching\n",
    "a = columns[0]\n",
    "matching = []\n",
    "for col in columns:\n",
    "    if col == a:\n",
    "        matching.append(True)\n",
    "    else:\n",
    "        matching.append(False)"
   ]
  },
  {
   "cell_type": "code",
   "execution_count": 24,
   "metadata": {},
   "outputs": [
    {
     "name": "stdout",
     "output_type": "stream",
     "text": [
      "Datasets with same columns: 67\n",
      "Datasets with new columns: 0\n"
     ]
    }
   ],
   "source": [
    "# confirm all columns are matching\n",
    "print(f'Datasets with same columns: {matching.count(True)}')\n",
    "print(f'Datasets with new columns: {matching.count(False)}')"
   ]
  },
  {
   "cell_type": "markdown",
   "metadata": {},
   "source": [
    "col ids are all the same, just remove spaces push to lowercase"
   ]
  },
  {
   "cell_type": "code",
   "execution_count": 48,
   "metadata": {
    "scrolled": true
   },
   "outputs": [
    {
     "name": "stdout",
     "output_type": "stream",
     "text": [
      "2013-06-citibike-tripdata.csv\n",
      "2013-07 - Citi Bike trip data.csv\n",
      "2013-08 - Citi Bike trip data.csv\n",
      "2013-09 - Citi Bike trip data.csv\n",
      "2013-10 - Citi Bike trip data.csv\n",
      "2013-11 - Citi Bike trip data.csv\n",
      "2013-12 - Citi Bike trip data.csv\n",
      "----\n",
      "2014-01 - Citi Bike trip data.csv\n",
      "2014-02 - Citi Bike trip data.csv\n",
      "2014-03 - Citi Bike trip data.csv\n",
      "2014-04 - Citi Bike trip data.csv\n",
      "2014-05 - Citi Bike trip data.csv\n",
      "2014-06 - Citi Bike trip data.csv\n",
      "2014-07 - Citi Bike trip data.csv\n",
      "2014-08 - Citi Bike trip data.csv\n",
      "201409-citibike-tripdata.csv\n",
      "201410-citibike-tripdata.csv\n",
      "201411-citibike-tripdata.csv\n",
      "201412-citibike-tripdata.csv\n",
      "----\n",
      "201501-citibike-tripdata.csv\n",
      "201502-citibike-tripdata.csv\n",
      "201503-citibike-tripdata.csv\n",
      "201504-citibike-tripdata.csv\n",
      "201505-citibike-tripdata.csv\n",
      "201506-citibike-tripdata.csv\n",
      "201507-citibike-tripdata.csv\n",
      "201508-citibike-tripdata.csv\n",
      "201509-citibike-tripdata.csv\n",
      "201510-citibike-tripdata.csv\n",
      "201511-citibike-tripdata.csv\n",
      "201512-citibike-tripdata.csv\n",
      "----\n",
      "201601-citibike-tripdata.csv\n",
      "201602-citibike-tripdata.csv\n",
      "201603-citibike-tripdata.csv\n",
      "201604-citibike-tripdata.csv\n",
      "201605-citibike-tripdata.csv\n",
      "201606-citibike-tripdata.csv\n",
      "201607-citibike-tripdata.csv\n",
      "201608-citibike-tripdata.csv\n",
      "201609-citibike-tripdata.csv\n",
      "201610-citibike-tripdata.csv\n",
      "201611-citibike-tripdata.csv\n",
      "201612-citibike-tripdata.csv\n",
      "----\n",
      "201701-citibike-tripdata.csv\n",
      "201702-citibike-tripdata.csv\n",
      "201703-citibike-tripdata.csv\n",
      "201704-citibike-tripdata.csv\n",
      "201705-citibike-tripdata.csv\n",
      "201706-citibike-tripdata.csv\n",
      "201707-citibike-tripdata.csv\n",
      "201708-citibike-tripdata.csv\n",
      "201709-citibike-tripdata.csv\n",
      "201710-citibike-tripdata.csv\n",
      "201711-citibike-tripdata.csv\n",
      "201712-citibike-tripdata.csv\n",
      "----\n",
      "201801-citibike-tripdata.csv\n",
      "201802-citibike-tripdata.csv\n",
      "201803-citibike-tripdata.csv\n",
      "201804-citibike-tripdata.csv\n",
      "201805-citibike-tripdata.csv\n",
      "201806-citibike-tripdata.csv\n",
      "201807-citibike-tripdata.csv\n",
      "201808-citibike-tripdata.csv\n",
      "201809-citibike-tripdata.csv\n",
      "201810-citibike-tripdata.csv\n",
      "201811-citibike-tripdata.csv\n",
      "201812-citibike-tripdata.csv\n",
      "----\n"
     ]
    }
   ],
   "source": [
    "# find all files\n",
    "for x in range(2013,2019):\n",
    "    for file in os.listdir('D:/tableau_csvs/trip_data/'):\n",
    "        if file.startswith(str(x)):\n",
    "            print(file)\n",
    "            \n",
    "    print('----')"
   ]
  },
  {
   "cell_type": "code",
   "execution_count": 51,
   "metadata": {
    "scrolled": true
   },
   "outputs": [
    {
     "name": "stdout",
     "output_type": "stream",
     "text": [
      "201801-citibike-tripdata.csv\n",
      "201802-citibike-tripdata.csv\n",
      "201803-citibike-tripdata.csv\n",
      "201804-citibike-tripdata.csv\n",
      "201805-citibike-tripdata.csv\n",
      "201806-citibike-tripdata.csv\n",
      "201807-citibike-tripdata.csv\n",
      "201808-citibike-tripdata.csv\n",
      "201809-citibike-tripdata.csv\n",
      "201810-citibike-tripdata.csv\n",
      "201811-citibike-tripdata.csv\n",
      "201812-citibike-tripdata.csv\n",
      "Created bulk CSV for 2018...\n"
     ]
    }
   ],
   "source": [
    "# replace columns and create annual CSVs\n",
    "for x in range(2013,2019):\n",
    "    months = []\n",
    "    for file in os.listdir('D:/tableau_csvs/trip_data/'):\n",
    "        if file.startswith(str(x)):\n",
    "            print(file)\n",
    "            df = pd.read_csv(f'D:/tableau_csvs/trip_data/{file}')\n",
    "            df.columns = unique\n",
    "            months.append(df)\n",
    "\n",
    "    year_df = pd.concat(months,ignore_index=True,sort=False)\n",
    "    year_df.to_csv(f'resources/trip_data/output/bulk_{x}.csv',sep=',',index=False)\n",
    "\n",
    "    print(f'Created bulk CSV for {x}...')"
   ]
  },
  {
   "cell_type": "markdown",
   "metadata": {},
   "source": [
    "### create dictionary of dtypes"
   ]
  },
  {
   "cell_type": "code",
   "execution_count": 5,
   "metadata": {},
   "outputs": [
    {
     "data": {
      "text/plain": [
       "array(['tripduration', 'starttime', 'stoptime', 'start station id',\n",
       "       'start station name', 'start station latitude',\n",
       "       'start station longitude', 'end station id', 'end station name',\n",
       "       'end station latitude', 'end station longitude', 'bikeid',\n",
       "       'usertype', 'birth year', 'gender'], dtype=object)"
      ]
     },
     "execution_count": 5,
     "metadata": {},
     "output_type": "execute_result"
    }
   ],
   "source": [
    "dff = pd.read_csv('D:/tableau_csvs/trip_data/201409-citibike-tripdata.csv',nrows=30)\n",
    "dff.columns.values"
   ]
  },
  {
   "cell_type": "code",
   "execution_count": 6,
   "metadata": {},
   "outputs": [
    {
     "data": {
      "text/html": [
       "<div>\n",
       "<style scoped>\n",
       "    .dataframe tbody tr th:only-of-type {\n",
       "        vertical-align: middle;\n",
       "    }\n",
       "\n",
       "    .dataframe tbody tr th {\n",
       "        vertical-align: top;\n",
       "    }\n",
       "\n",
       "    .dataframe thead th {\n",
       "        text-align: right;\n",
       "    }\n",
       "</style>\n",
       "<table border=\"1\" class=\"dataframe\">\n",
       "  <thead>\n",
       "    <tr style=\"text-align: right;\">\n",
       "      <th></th>\n",
       "      <th>tripduration</th>\n",
       "      <th>starttime</th>\n",
       "      <th>stoptime</th>\n",
       "      <th>start station id</th>\n",
       "      <th>start station name</th>\n",
       "      <th>start station latitude</th>\n",
       "      <th>start station longitude</th>\n",
       "      <th>end station id</th>\n",
       "      <th>end station name</th>\n",
       "      <th>end station latitude</th>\n",
       "      <th>end station longitude</th>\n",
       "      <th>bikeid</th>\n",
       "      <th>usertype</th>\n",
       "      <th>birth year</th>\n",
       "      <th>gender</th>\n",
       "    </tr>\n",
       "  </thead>\n",
       "  <tbody>\n",
       "    <tr>\n",
       "      <th>0</th>\n",
       "      <td>2828</td>\n",
       "      <td>9/1/2014 00:00:25</td>\n",
       "      <td>9/1/2014 00:47:33</td>\n",
       "      <td>386</td>\n",
       "      <td>Centre St &amp; Worth St</td>\n",
       "      <td>40.714948</td>\n",
       "      <td>-74.002345</td>\n",
       "      <td>450</td>\n",
       "      <td>W 49 St &amp; 8 Ave</td>\n",
       "      <td>40.762272</td>\n",
       "      <td>-73.987882</td>\n",
       "      <td>15941</td>\n",
       "      <td>Subscriber</td>\n",
       "      <td>1980.0</td>\n",
       "      <td>1</td>\n",
       "    </tr>\n",
       "    <tr>\n",
       "      <th>1</th>\n",
       "      <td>368</td>\n",
       "      <td>9/1/2014 00:00:28</td>\n",
       "      <td>9/1/2014 00:06:36</td>\n",
       "      <td>387</td>\n",
       "      <td>Centre St &amp; Chambers St</td>\n",
       "      <td>40.712733</td>\n",
       "      <td>-74.004607</td>\n",
       "      <td>2008</td>\n",
       "      <td>Little West St &amp; 1 Pl</td>\n",
       "      <td>40.705693</td>\n",
       "      <td>-74.016777</td>\n",
       "      <td>18962</td>\n",
       "      <td>Subscriber</td>\n",
       "      <td>1982.0</td>\n",
       "      <td>1</td>\n",
       "    </tr>\n",
       "    <tr>\n",
       "      <th>2</th>\n",
       "      <td>2201</td>\n",
       "      <td>9/1/2014 00:00:40</td>\n",
       "      <td>9/1/2014 00:37:21</td>\n",
       "      <td>386</td>\n",
       "      <td>Centre St &amp; Worth St</td>\n",
       "      <td>40.714948</td>\n",
       "      <td>-74.002345</td>\n",
       "      <td>441</td>\n",
       "      <td>E 52 St &amp; 2 Ave</td>\n",
       "      <td>40.756014</td>\n",
       "      <td>-73.967416</td>\n",
       "      <td>15982</td>\n",
       "      <td>Subscriber</td>\n",
       "      <td>1968.0</td>\n",
       "      <td>1</td>\n",
       "    </tr>\n",
       "    <tr>\n",
       "      <th>3</th>\n",
       "      <td>322</td>\n",
       "      <td>9/1/2014 00:00:41</td>\n",
       "      <td>9/1/2014 00:06:03</td>\n",
       "      <td>167</td>\n",
       "      <td>E 39 St &amp; 3 Ave</td>\n",
       "      <td>40.748901</td>\n",
       "      <td>-73.976049</td>\n",
       "      <td>528</td>\n",
       "      <td>2 Ave &amp; E 31 St</td>\n",
       "      <td>40.742909</td>\n",
       "      <td>-73.977061</td>\n",
       "      <td>19081</td>\n",
       "      <td>Subscriber</td>\n",
       "      <td>1961.0</td>\n",
       "      <td>1</td>\n",
       "    </tr>\n",
       "    <tr>\n",
       "      <th>4</th>\n",
       "      <td>1693</td>\n",
       "      <td>9/1/2014 00:00:59</td>\n",
       "      <td>9/1/2014 00:29:12</td>\n",
       "      <td>223</td>\n",
       "      <td>W 13 St &amp; 7 Ave</td>\n",
       "      <td>40.737815</td>\n",
       "      <td>-73.999947</td>\n",
       "      <td>83</td>\n",
       "      <td>Atlantic Ave &amp; Fort Greene Pl</td>\n",
       "      <td>40.683826</td>\n",
       "      <td>-73.976323</td>\n",
       "      <td>20836</td>\n",
       "      <td>Subscriber</td>\n",
       "      <td>1978.0</td>\n",
       "      <td>1</td>\n",
       "    </tr>\n",
       "  </tbody>\n",
       "</table>\n",
       "</div>"
      ],
      "text/plain": [
       "   tripduration          starttime           stoptime  start station id  \\\n",
       "0          2828  9/1/2014 00:00:25  9/1/2014 00:47:33               386   \n",
       "1           368  9/1/2014 00:00:28  9/1/2014 00:06:36               387   \n",
       "2          2201  9/1/2014 00:00:40  9/1/2014 00:37:21               386   \n",
       "3           322  9/1/2014 00:00:41  9/1/2014 00:06:03               167   \n",
       "4          1693  9/1/2014 00:00:59  9/1/2014 00:29:12               223   \n",
       "\n",
       "        start station name  start station latitude  start station longitude  \\\n",
       "0     Centre St & Worth St               40.714948               -74.002345   \n",
       "1  Centre St & Chambers St               40.712733               -74.004607   \n",
       "2     Centre St & Worth St               40.714948               -74.002345   \n",
       "3          E 39 St & 3 Ave               40.748901               -73.976049   \n",
       "4          W 13 St & 7 Ave               40.737815               -73.999947   \n",
       "\n",
       "   end station id               end station name  end station latitude  \\\n",
       "0             450                W 49 St & 8 Ave             40.762272   \n",
       "1            2008          Little West St & 1 Pl             40.705693   \n",
       "2             441                E 52 St & 2 Ave             40.756014   \n",
       "3             528                2 Ave & E 31 St             40.742909   \n",
       "4              83  Atlantic Ave & Fort Greene Pl             40.683826   \n",
       "\n",
       "   end station longitude  bikeid    usertype  birth year  gender  \n",
       "0             -73.987882   15941  Subscriber      1980.0       1  \n",
       "1             -74.016777   18962  Subscriber      1982.0       1  \n",
       "2             -73.967416   15982  Subscriber      1968.0       1  \n",
       "3             -73.977061   19081  Subscriber      1961.0       1  \n",
       "4             -73.976323   20836  Subscriber      1978.0       1  "
      ]
     },
     "execution_count": 6,
     "metadata": {},
     "output_type": "execute_result"
    }
   ],
   "source": [
    "dff.head()"
   ]
  },
  {
   "cell_type": "code",
   "execution_count": 7,
   "metadata": {
    "scrolled": true
   },
   "outputs": [
    {
     "data": {
      "text/plain": [
       "tripduration                 int64\n",
       "starttime                   object\n",
       "stoptime                    object\n",
       "start station id             int64\n",
       "start station name          object\n",
       "start station latitude     float64\n",
       "start station longitude    float64\n",
       "end station id               int64\n",
       "end station name            object\n",
       "end station latitude       float64\n",
       "end station longitude      float64\n",
       "bikeid                       int64\n",
       "usertype                    object\n",
       "birth year                 float64\n",
       "gender                       int64\n",
       "dtype: object"
      ]
     },
     "execution_count": 7,
     "metadata": {},
     "output_type": "execute_result"
    }
   ],
   "source": [
    "dff.dtypes"
   ]
  },
  {
   "cell_type": "code",
   "execution_count": 8,
   "metadata": {},
   "outputs": [
    {
     "data": {
      "text/plain": [
       "{'tripduration': 'int64',\n",
       " 'starttime': 'object',\n",
       " 'stoptime': 'object',\n",
       " 'start station id': 'int64',\n",
       " 'start station name': 'object',\n",
       " 'start station latitude': 'float64',\n",
       " 'start station longitude': 'float64',\n",
       " 'end station id': 'int64',\n",
       " 'end station name': 'object',\n",
       " 'end station latitude': 'float64',\n",
       " 'end station longitude': 'float64',\n",
       " 'bikeid': 'int64',\n",
       " 'usertype': 'object',\n",
       " 'birth year': 'float64',\n",
       " 'gender': 'int64'}"
      ]
     },
     "execution_count": 8,
     "metadata": {},
     "output_type": "execute_result"
    }
   ],
   "source": [
    "dtype = {}\n",
    "apply = ['int64', 'object', 'object', 'int64', 'object', 'float64', 'float64', 'int64', 'object', 'float64', 'float64', 'int64', 'object', 'float64', 'int64']\n",
    "for x, name in enumerate(dff.columns.values):\n",
    "    dtype[name] = apply[x]\n",
    "dtype"
   ]
  },
  {
   "cell_type": "markdown",
   "metadata": {},
   "source": [
    "### drop nulls and unknowns"
   ]
  },
  {
   "cell_type": "code",
   "execution_count": 2,
   "metadata": {},
   "outputs": [],
   "source": [
    "import pandas as pd\n",
    "import os"
   ]
  },
  {
   "cell_type": "code",
   "execution_count": 9,
   "metadata": {},
   "outputs": [
    {
     "name": "stdout",
     "output_type": "stream",
     "text": [
      "bulk_2016.csv\n",
      "13845655 - 12222976 - 34735 = 12188241\n",
      "Removed nulls for bulk_2016.csv...\n",
      "------------------------------\n",
      "bulk_2017.csv\n",
      "16364657 - 14718438 - 64318 = 14654120\n",
      "Removed nulls for bulk_2017.csv...\n",
      "------------------------------\n",
      "bulk_2018.csv\n",
      "17548339 - 17545842 - 1484282 = 16061560\n",
      "Removed nulls for bulk_2018.csv...\n",
      "------------------------------\n"
     ]
    }
   ],
   "source": [
    "for file in os.listdir('D:/tableau_csvs/trip_data/output/'):\n",
    "    if file.startswith('bulk_'):\n",
    "        print(file)\n",
    "        df = pd.read_csv(f'D:/tableau_csvs/trip_data/output/{file}',dtype=dtype)\n",
    "        df2 = df.dropna(how='any')\n",
    "        df3 = df2[df2.gender != 0]\n",
    "\n",
    "        print(f'{len(df)} - {len(df2)} - {len(df2) - len(df3)} = {len(df3)}')\n",
    "\n",
    "        df3.to_csv(f'D:/tableau_csvs/trip_data/output/remove_nulls/{file}',sep=',',index=False)\n",
    "\n",
    "        print(f'Removed nulls for {file}...')\n",
    "        print('------------------------------')"
   ]
  }
 ],
 "metadata": {
  "kernelspec": {
   "display_name": "Python 3",
   "language": "python",
   "name": "python3"
  },
  "language_info": {
   "codemirror_mode": {
    "name": "ipython",
    "version": 3
   },
   "file_extension": ".py",
   "mimetype": "text/x-python",
   "name": "python",
   "nbconvert_exporter": "python",
   "pygments_lexer": "ipython3",
   "version": "3.6.5"
  }
 },
 "nbformat": 4,
 "nbformat_minor": 2
}
