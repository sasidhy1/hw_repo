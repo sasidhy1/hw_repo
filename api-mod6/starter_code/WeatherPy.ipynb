{
 "cells": [
  {
   "cell_type": "markdown",
   "metadata": {},
   "source": [
    "# WeatherPy\n",
    "----\n",
    "\n",
    "### Analysis\n",
    "* As expected, the weather becomes significantly warmer as one approaches the equator (0 Deg. Latitude). More interestingly, however, is the fact that the southern hemisphere tends to be warmer this time of year than the northern hemisphere. This may be due to the tilt of the earth.\n",
    "* There is no strong relationship between latitude and cloudiness. However, it is interesting to see that a strong band of cities sits at 0, 80, and 100% cloudiness.\n",
    "* There is no strong relationship between latitude and wind speed. However, in northern hemispheres there is a flurry of cities with over 20 mph of wind.\n",
    "\n",
    "---\n",
    "\n",
    "#### Note\n",
    "* Instructions have been included for each segment. You do not have to follow them exactly, but they are included to help you think through the steps."
   ]
  },
  {
   "cell_type": "code",
   "execution_count": 187,
   "metadata": {
    "scrolled": true
   },
   "outputs": [],
   "source": [
    "# Dependencies and Setup\n",
    "import matplotlib.pyplot as plt\n",
    "import openweathermapy as owm\n",
    "import pandas as pd\n",
    "import numpy as np\n",
    "import requests\n",
    "import json\n",
    "import time\n",
    "\n",
    "# Import API key\n",
    "from config import api_key\n",
    "\n",
    "# Incorporated citipy to determine city based on latitude and longitude\n",
    "from citipy import citipy\n",
    "\n",
    "# Output File (CSV)\n",
    "output_data_file = \"output/cities.csv\"\n",
    "\n",
    "# Range of latitudes and longitudes\n",
    "lat_range = (-90, 90)\n",
    "lng_range = (-180, 180)"
   ]
  },
  {
   "cell_type": "markdown",
   "metadata": {},
   "source": [
    "## Generate Cities List"
   ]
  },
  {
   "cell_type": "code",
   "execution_count": 157,
   "metadata": {},
   "outputs": [
    {
     "data": {
      "text/plain": [
       "606"
      ]
     },
     "execution_count": 157,
     "metadata": {},
     "output_type": "execute_result"
    }
   ],
   "source": [
    "# List for holding lat_lngs and cities\n",
    "lat_lngs = []\n",
    "cities = []\n",
    "countries = []\n",
    "\n",
    "# Create a set of random lat and lng combinations\n",
    "lats = np.random.uniform(low=-90.000, high=90.000, size=1500)\n",
    "lngs = np.random.uniform(low=-180.000, high=180.000, size=1500)\n",
    "lat_lngs = zip(lats, lngs)\n",
    "\n",
    "# Identify nearest city for each lat, lng combination\n",
    "for lat_lng in lat_lngs:\n",
    "    city = citipy.nearest_city(lat_lng[0], lat_lng[1]).city_name\n",
    "    country = citipy.nearest_city(lat_lng[0], lat_lng[1]).country_code\n",
    "    \n",
    "    # If the city is unique, then add it to a our cities list\n",
    "    if city not in cities:\n",
    "        cities.append(city)\n",
    "        countries.append(country)\n",
    "\n",
    "# Print the city count to confirm sufficient count\n",
    "len(cities)"
   ]
  },
  {
   "cell_type": "code",
   "execution_count": 171,
   "metadata": {},
   "outputs": [
    {
     "name": "stdout",
     "output_type": "stream",
     "text": [
      "['chuy,uy', 'odweyne,so', 'lasa,cn', 'esperance,au', 'indianola,us', 'albany,au', 'chumikan,ru', 'ribeira grande,pt']\n"
     ]
    }
   ],
   "source": [
    "# start off using a temporary list with fewer cities\n",
    "# search more likely successful if including country code\n",
    "smaller_list = [cities[i] + ',' + countries[i] for i, city in enumerate(cities[0:8])]\n",
    "print(smaller_list)"
   ]
  },
  {
   "cell_type": "markdown",
   "metadata": {},
   "source": [
    "### Perform API Calls\n",
    "* Perform a weather check on each city using a series of successive API calls.\n",
    "* Include a print log of each city as it'sbeing processed (with the city number and city name).\n"
   ]
  },
  {
   "cell_type": "code",
   "execution_count": 172,
   "metadata": {},
   "outputs": [],
   "source": [
    "base_url = 'http://api.openweathermap.org/data/2.5/weather?'\n",
    "units = 'units=imperial'"
   ]
  },
  {
   "cell_type": "code",
   "execution_count": 175,
   "metadata": {},
   "outputs": [
    {
     "name": "stdout",
     "output_type": "stream",
     "text": [
      "Beginning Data Retrieval\n",
      "-----------------------------\n",
      "Processing record 0 of Set 1 | Chuy\n",
      "City not found. Skipping...\n",
      "City not found. Skipping...\n",
      "Processing record 3 of Set 1 | Esperance\n",
      "Processing record 4 of Set 1 | Indianola\n",
      "Processing record 5 of Set 1 | Albany\n",
      "Processing record 6 of Set 1 | Chumikan\n",
      "Processing record 7 of Set 1 | Ribeira Grande\n",
      "-----------------------------\n",
      "Data Retrieval Complete\n"
     ]
    }
   ],
   "source": [
    "print('Beginning Data Retrieval')\n",
    "print('-----------------------------')\n",
    "\n",
    "weather_check = []\n",
    "for i, city in enumerate(smaller_list):\n",
    "    url = base_url + units + '&appid=' + api_key + '&q=' + city\n",
    "    try:\n",
    "        response = requests.get(url).json()\n",
    "        # temp = response['main']['temp']        # original from weather check\n",
    "        \n",
    "        # capture all weather data in variables\n",
    "        city = response['name']\n",
    "        cloudiness = response['clouds']['all']\n",
    "        country = response['sys']['country']\n",
    "        date = int(response['dt'])\n",
    "        humidity = response['main']['humidity']\n",
    "        lat = response['coord']['lat']\n",
    "        lng = response['coord']['lon']\n",
    "        max_temp = response['main']['temp_max']\n",
    "        wind_speed = response['wind']['speed']\n",
    "        \n",
    "        # append weather data variables to dictionary\n",
    "        weather_check.append({'city':city,\n",
    "                              'cloudiness':cloudiness,\n",
    "                              'country':country,\n",
    "                              'date':date,\n",
    "                              'humidity':humidity,\n",
    "                              'lat':lat,\n",
    "                              'lng':lng,\n",
    "                              'max_temp':max_temp,\n",
    "                              'wind_speed':wind_speed})\n",
    "        \n",
    "        # confirm record is found with process statement\n",
    "        print(f\"Processing record {i} of Set 1 | {city}\")\n",
    "        \n",
    "    except:\n",
    "        # confirm record is missing with skip statement\n",
    "        print('City not found. Skipping...')\n",
    "\n",
    "print('-----------------------------')\n",
    "print('Data Retrieval Complete')"
   ]
  },
  {
   "cell_type": "code",
   "execution_count": 185,
   "metadata": {
    "scrolled": true
   },
   "outputs": [
    {
     "name": "stdout",
     "output_type": "stream",
     "text": [
      "[\n",
      "    {\n",
      "        \"city\": \"Chuy\",\n",
      "        \"cloudiness\": 92,\n",
      "        \"country\": \"UY\",\n",
      "        \"date\": 1538118500,\n",
      "        \"humidity\": 96,\n",
      "        \"lat\": -33.69,\n",
      "        \"lng\": -53.46,\n",
      "        \"max_temp\": 59.19,\n",
      "        \"wind_speed\": 15.5\n",
      "    },\n",
      "    {\n",
      "        \"city\": \"Esperance\",\n",
      "        \"cloudiness\": 0,\n",
      "        \"country\": \"AU\",\n",
      "        \"date\": 1538118712,\n",
      "        \"humidity\": 70,\n",
      "        \"lat\": -33.86,\n",
      "        \"lng\": 121.89,\n",
      "        \"max_temp\": 61.89,\n",
      "        \"wind_speed\": 10.8\n",
      "    },\n",
      "    {\n",
      "        \"city\": \"Indianola\",\n",
      "        \"cloudiness\": 1,\n",
      "        \"country\": \"US\",\n",
      "        \"date\": 1538117580,\n",
      "        \"humidity\": 74,\n",
      "        \"lat\": 40.24,\n",
      "        \"lng\": -100.42,\n",
      "        \"max_temp\": 51.98,\n",
      "        \"wind_speed\": 14.99\n",
      "    },\n",
      "    {\n",
      "        \"city\": \"Albany\",\n",
      "        \"cloudiness\": 0,\n",
      "        \"country\": \"AU\",\n",
      "        \"date\": 1538118454,\n",
      "        \"humidity\": 59,\n",
      "        \"lat\": -35.02,\n",
      "        \"lng\": 117.88,\n",
      "        \"max_temp\": 61.53,\n",
      "        \"wind_speed\": 13.82\n",
      "    },\n",
      "    {\n",
      "        \"city\": \"Chumikan\",\n",
      "        \"cloudiness\": 0,\n",
      "        \"country\": \"RU\",\n",
      "        \"date\": 1538118712,\n",
      "        \"humidity\": 51,\n",
      "        \"lat\": 54.72,\n",
      "        \"lng\": 135.31,\n",
      "        \"max_temp\": 64.14,\n",
      "        \"wind_speed\": 11.81\n",
      "    },\n",
      "    {\n",
      "        \"city\": \"Ribeira Grande\",\n",
      "        \"cloudiness\": 20,\n",
      "        \"country\": \"PT\",\n",
      "        \"date\": 1538116200,\n",
      "        \"humidity\": 83,\n",
      "        \"lat\": 38.52,\n",
      "        \"lng\": -28.7,\n",
      "        \"max_temp\": 73.4,\n",
      "        \"wind_speed\": 3.36\n",
      "    }\n",
      "]\n"
     ]
    }
   ],
   "source": [
    "print(json.dumps(weather_check,indent=4,sort_keys=True))"
   ]
  },
  {
   "cell_type": "markdown",
   "metadata": {},
   "source": [
    "### Convert Raw Data to DataFrame\n",
    "* Export the city data into a .csv.\n",
    "* Display the DataFrame"
   ]
  },
  {
   "cell_type": "code",
   "execution_count": 193,
   "metadata": {},
   "outputs": [
    {
     "data": {
      "text/html": [
       "<div>\n",
       "<style scoped>\n",
       "    .dataframe tbody tr th:only-of-type {\n",
       "        vertical-align: middle;\n",
       "    }\n",
       "\n",
       "    .dataframe tbody tr th {\n",
       "        vertical-align: top;\n",
       "    }\n",
       "\n",
       "    .dataframe thead th {\n",
       "        text-align: right;\n",
       "    }\n",
       "</style>\n",
       "<table border=\"1\" class=\"dataframe\">\n",
       "  <thead>\n",
       "    <tr style=\"text-align: right;\">\n",
       "      <th></th>\n",
       "      <th>city</th>\n",
       "      <th>cloudiness</th>\n",
       "      <th>country</th>\n",
       "      <th>date</th>\n",
       "      <th>humidity</th>\n",
       "      <th>lat</th>\n",
       "      <th>lng</th>\n",
       "      <th>max_temp</th>\n",
       "      <th>wind_speed</th>\n",
       "    </tr>\n",
       "  </thead>\n",
       "  <tbody>\n",
       "    <tr>\n",
       "      <th>0</th>\n",
       "      <td>Chuy</td>\n",
       "      <td>92</td>\n",
       "      <td>UY</td>\n",
       "      <td>1538118500</td>\n",
       "      <td>96</td>\n",
       "      <td>-33.69</td>\n",
       "      <td>-53.46</td>\n",
       "      <td>59.19</td>\n",
       "      <td>15.50</td>\n",
       "    </tr>\n",
       "    <tr>\n",
       "      <th>1</th>\n",
       "      <td>Esperance</td>\n",
       "      <td>0</td>\n",
       "      <td>AU</td>\n",
       "      <td>1538118712</td>\n",
       "      <td>70</td>\n",
       "      <td>-33.86</td>\n",
       "      <td>121.89</td>\n",
       "      <td>61.89</td>\n",
       "      <td>10.80</td>\n",
       "    </tr>\n",
       "    <tr>\n",
       "      <th>2</th>\n",
       "      <td>Indianola</td>\n",
       "      <td>1</td>\n",
       "      <td>US</td>\n",
       "      <td>1538117580</td>\n",
       "      <td>74</td>\n",
       "      <td>40.24</td>\n",
       "      <td>-100.42</td>\n",
       "      <td>51.98</td>\n",
       "      <td>14.99</td>\n",
       "    </tr>\n",
       "    <tr>\n",
       "      <th>3</th>\n",
       "      <td>Albany</td>\n",
       "      <td>0</td>\n",
       "      <td>AU</td>\n",
       "      <td>1538118454</td>\n",
       "      <td>59</td>\n",
       "      <td>-35.02</td>\n",
       "      <td>117.88</td>\n",
       "      <td>61.53</td>\n",
       "      <td>13.82</td>\n",
       "    </tr>\n",
       "    <tr>\n",
       "      <th>4</th>\n",
       "      <td>Chumikan</td>\n",
       "      <td>0</td>\n",
       "      <td>RU</td>\n",
       "      <td>1538118712</td>\n",
       "      <td>51</td>\n",
       "      <td>54.72</td>\n",
       "      <td>135.31</td>\n",
       "      <td>64.14</td>\n",
       "      <td>11.81</td>\n",
       "    </tr>\n",
       "  </tbody>\n",
       "</table>\n",
       "</div>"
      ],
      "text/plain": [
       "        city  cloudiness country        date  humidity    lat     lng  \\\n",
       "0       Chuy          92      UY  1538118500        96 -33.69  -53.46   \n",
       "1  Esperance           0      AU  1538118712        70 -33.86  121.89   \n",
       "2  Indianola           1      US  1538117580        74  40.24 -100.42   \n",
       "3     Albany           0      AU  1538118454        59 -35.02  117.88   \n",
       "4   Chumikan           0      RU  1538118712        51  54.72  135.31   \n",
       "\n",
       "   max_temp  wind_speed  \n",
       "0     59.19       15.50  \n",
       "1     61.89       10.80  \n",
       "2     51.98       14.99  \n",
       "3     61.53       13.82  \n",
       "4     64.14       11.81  "
      ]
     },
     "execution_count": 193,
     "metadata": {},
     "output_type": "execute_result"
    }
   ],
   "source": [
    "# load into dataframe\n",
    "df = pd.DataFrame(weather_check)\n",
    "\n",
    "# write csv without index, prepends comma otherwise\n",
    "df.to_csv(output_data_file,index=False)\n",
    "\n",
    "# display dataframe\n",
    "df.head()"
   ]
  },
  {
   "cell_type": "markdown",
   "metadata": {},
   "source": [
    "### Plotting the Data\n",
    "* Use proper labeling of the plots using plot titles (including date of analysis) and axes labels.\n",
    "* Save the plotted figures as .pngs."
   ]
  },
  {
   "cell_type": "markdown",
   "metadata": {},
   "source": [
    "#### Latitude vs. Temperature Plot"
   ]
  },
  {
   "cell_type": "code",
   "execution_count": 194,
   "metadata": {},
   "outputs": [
    {
     "data": {
      "text/plain": [
       "Text(0,0.5,'Max Temperature (F)')"
      ]
     },
     "execution_count": 194,
     "metadata": {},
     "output_type": "execute_result"
    },
    {
     "data": {
      "image/png": "[encoded data removed]",
      "text/plain": [
       "<Figure size 432x288 with 1 Axes>"
      ]
     },
     "metadata": {},
     "output_type": "display_data"
    }
   ],
   "source": [
    "df.plot.scatter('lat','max_temp',s=36,edgecolors='black',figsize=(6,4))\n",
    "plt.grid()\n",
    "plt.title('City Latitude vs. Max Temperature (09/28/18)')\n",
    "plt.xlabel('Latitude')\n",
    "plt.ylabel('Max Temperature (F)')"
   ]
  },
  {
   "cell_type": "markdown",
   "metadata": {},
   "source": [
    "#### Latitude vs. Humidity Plot"
   ]
  },
  {
   "cell_type": "code",
   "execution_count": 195,
   "metadata": {},
   "outputs": [
    {
     "data": {
      "text/plain": [
       "Text(0,0.5,'Humidity (%)')"
      ]
     },
     "execution_count": 195,
     "metadata": {},
     "output_type": "execute_result"
    },
    {
     "data": {
      "image/png": "[encoded data removed]",
      "text/plain": [
       "<Figure size 432x288 with 1 Axes>"
      ]
     },
     "metadata": {},
     "output_type": "display_data"
    }
   ],
   "source": [
    "df.plot.scatter('lat','humidity',s=36,edgecolors='black',figsize=(6,4))\n",
    "plt.grid()\n",
    "plt.title('City Latitude vs. Humidity (09/28/18)')\n",
    "plt.xlabel('Latitude')\n",
    "plt.ylabel('Humidity (%)')"
   ]
  },
  {
   "cell_type": "markdown",
   "metadata": {},
   "source": [
    "#### Latitude vs. Cloudiness Plot"
   ]
  },
  {
   "cell_type": "code",
   "execution_count": 196,
   "metadata": {},
   "outputs": [
    {
     "data": {
      "text/plain": [
       "Text(0,0.5,'Cloudiness (%)')"
      ]
     },
     "execution_count": 196,
     "metadata": {},
     "output_type": "execute_result"
    },
    {
     "data": {
      "image/png": "[encoded data removed]",
      "text/plain": [
       "<Figure size 432x288 with 1 Axes>"
      ]
     },
     "metadata": {},
     "output_type": "display_data"
    }
   ],
   "source": [
    "df.plot.scatter('lat','cloudiness',s=36,edgecolors='black',figsize=(6,4))\n",
    "plt.grid()\n",
    "plt.title('City Latitude vs. Cloudiness (09/28/18)')\n",
    "plt.xlabel('Latitude')\n",
    "plt.ylabel('Cloudiness (%)')"
   ]
  },
  {
   "cell_type": "markdown",
   "metadata": {},
   "source": [
    "#### Latitude vs. Wind Speed Plot"
   ]
  },
  {
   "cell_type": "code",
   "execution_count": 197,
   "metadata": {},
   "outputs": [
    {
     "data": {
      "text/plain": [
       "Text(0,0.5,'Wind Speed (mph)')"
      ]
     },
     "execution_count": 197,
     "metadata": {},
     "output_type": "execute_result"
    },
    {
     "data": {
      "image/png": "[encoded data removed]",
      "text/plain": [
       "<Figure size 432x288 with 1 Axes>"
      ]
     },
     "metadata": {},
     "output_type": "display_data"
    }
   ],
   "source": [
    "df.plot.scatter('lat','wind_speed',s=36,edgecolors='black',figsize=(6,4))\n",
    "plt.grid()\n",
    "plt.title('City Latitude vs. Wind Speed (09/28/18)')\n",
    "plt.xlabel('Latitude')\n",
    "plt.ylabel('Wind Speed (mph)')"
   ]
  }
 ],
 "metadata": {
  "anaconda-cloud": {},
  "kernelspec": {
   "display_name": "Python 3",
   "language": "python",
   "name": "python3"
  },
  "language_info": {
   "codemirror_mode": {
    "name": "ipython",
    "version": 3
   },
   "file_extension": ".py",
   "mimetype": "text/x-python",
   "name": "python",
   "nbconvert_exporter": "python",
   "pygments_lexer": "ipython3",
   "version": "3.6.5"
  }
 },
 "nbformat": 4,
 "nbformat_minor": 2
}
